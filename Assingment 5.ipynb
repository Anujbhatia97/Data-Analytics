{
 "cells": [
  {
   "cell_type": "code",
   "execution_count": null,
   "id": "12ce4f5d",
   "metadata": {},
   "outputs": [],
   "source": [
    "Q1. How many types of conditions are available in conditional formatting on Excel?\n",
    "Ans. There are 5 types of conditional formatting visualizations available: Background Color Shading (of cells) Foreground Color Shading (of fonts) Data Bars."
   ]
  },
  {
   "cell_type": "code",
   "execution_count": null,
   "id": "6670740b",
   "metadata": {},
   "outputs": [],
   "source": [
    "Q3. How to Format Numbers as Currency in Excel?\n",
    "Ans. Select the cells that you want to format and then, in the Number group on the Home tab, click the down arrow in the Number Format box.\n",
    "     Choose either Currency or Accounting."
   ]
  },
  {
   "cell_type": "code",
   "execution_count": null,
   "id": "2aac723c",
   "metadata": {},
   "outputs": [],
   "source": [
    "Q4. What are the steps to format numbers in Excel with the Percent style?\n",
    "Ans. On the Home tab, in the Number group, click the icon next to Number to display the Format Cells dialog box. In the Format Cells dialog box, in the Category list, click Percentage. In the Decimal places box, enter the number of decimal places that you want to display."
   ]
  },
  {
   "cell_type": "code",
   "execution_count": null,
   "id": "94b6906e",
   "metadata": {},
   "outputs": [],
   "source": [
    "Q5. What is a shortcut to merge two or more cells in excel?\n",
    "Ans. ALT H+M+M"
   ]
  },
  {
   "cell_type": "code",
   "execution_count": null,
   "id": "be4e7c11",
   "metadata": {},
   "outputs": [],
   "source": [
    "Q6. How do you use text commands in Excel?\n",
    "Ans. Select the column, or range where you'll be putting the values, then use CTRL+1 to bring up the Format > Cells dialog and on the Number tab select Text. Now Excel will keep your leading 0's. If you've already entered data and Excel has removed your leading 0's, you can use the TEXT function to add them back."
   ]
  }
 ],
 "metadata": {
  "kernelspec": {
   "display_name": "Python 3 (ipykernel)",
   "language": "python",
   "name": "python3"
  },
  "language_info": {
   "codemirror_mode": {
    "name": "ipython",
    "version": 3
   },
   "file_extension": ".py",
   "mimetype": "text/x-python",
   "name": "python",
   "nbconvert_exporter": "python",
   "pygments_lexer": "ipython3",
   "version": "3.9.7"
  }
 },
 "nbformat": 4,
 "nbformat_minor": 5
}
