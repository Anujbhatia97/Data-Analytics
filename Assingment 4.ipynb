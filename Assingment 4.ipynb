{
 "cells": [
  {
   "cell_type": "code",
   "execution_count": null,
   "id": "29a7779b",
   "metadata": {},
   "outputs": [],
   "source": [
    "Q1 To use the ribbon commands, what menu and grouping of commands will you find the Insert and Delete command?\n",
    "Ans. Home: This is the most popular bar and displayed by default when excel is opened. This tab contains the basic Clipboard commands, formatting commands, style commands, commands to insert and delete rows or columns, plus an assortment of worksheet editing commands."
   ]
  },
  {
   "cell_type": "code",
   "execution_count": null,
   "id": "e9fa036a",
   "metadata": {},
   "outputs": [],
   "source": [
    "Q2. If you set a row height or column width to 0 (zero), what happens to the row and column?\n",
    "Ans. if you set the row height to 0 (zero), Excel will hide the row."
   ]
  },
  {
   "cell_type": "code",
   "execution_count": null,
   "id": "2cedd655",
   "metadata": {},
   "outputs": [],
   "source": [
    "Q3. Is there a need to change the height and width in a cell? Why?\n",
    "Ans. It is necessary to change width and height in excel to fit the data. Excel by default provide equal width and height with respect to columns and rows. Whenever we enter a lengthy data, few characters will get displayed and other will be present inside the cell but will be hidden to the user"
   ]
  },
  {
   "cell_type": "code",
   "execution_count": null,
   "id": "044f4d0d",
   "metadata": {},
   "outputs": [],
   "source": [
    "Q4. What is the keyboard shortcut to unhide rows?\n",
    "ans. Ctrl + 0"
   ]
  },
  {
   "cell_type": "code",
   "execution_count": null,
   "id": "19ecab76",
   "metadata": {},
   "outputs": [],
   "source": [
    "Q5. How to hide rows containing blank cells?\n",
    "Ans. Select the data range which contains the blank cells you want to hide.\n",
    "     Then click Home > Find & Select > Go To Special, see screenshot: ...\n",
    "     And in the Go To Special dialog, select Blanks option, and then click OK button."
   ]
  }
 ],
 "metadata": {
  "kernelspec": {
   "display_name": "Python 3 (ipykernel)",
   "language": "python",
   "name": "python3"
  },
  "language_info": {
   "codemirror_mode": {
    "name": "ipython",
    "version": 3
   },
   "file_extension": ".py",
   "mimetype": "text/x-python",
   "name": "python",
   "nbconvert_exporter": "python",
   "pygments_lexer": "ipython3",
   "version": "3.9.7"
  }
 },
 "nbformat": 4,
 "nbformat_minor": 5
}
